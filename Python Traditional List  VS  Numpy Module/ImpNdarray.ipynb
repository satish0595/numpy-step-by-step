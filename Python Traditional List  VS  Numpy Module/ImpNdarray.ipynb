{
 "cells": [
  {
   "cell_type": "code",
   "execution_count": 1,
   "id": "77d36d70-8285-49b7-b8ff-864fa863aa28",
   "metadata": {},
   "outputs": [
    {
     "name": "stdout",
     "output_type": "stream",
     "text": [
      "content of lst= [10, 20, 30]\n",
      "Memory space of lst= 88\n"
     ]
    }
   ],
   "source": [
    "import sys\n",
    "lst=[10,20,30]\n",
    "print(\"content of lst=\",lst)\n",
    "print(\"Memory space of lst=\",sys.getsizeof(lst))"
   ]
  },
  {
   "cell_type": "code",
   "execution_count": 2,
   "id": "7288b3c8-1e7b-4153-bf52-da37668d421a",
   "metadata": {},
   "outputs": [
    {
     "name": "stdout",
     "output_type": "stream",
     "text": [
      "Content of ndarray= [10 20 30]\n",
      "Memory Space of ndarray= 124\n"
     ]
    }
   ],
   "source": [
    "#Convert Traditioanl Python List into ndarray object\n",
    "import numpy as np\n",
    "a=np.array(lst)\n",
    "print(\"Content of ndarray=\",a)\n",
    "print(\"Memory Space of ndarray=\",sys.getsizeof(a))"
   ]
  },
  {
   "cell_type": "code",
   "execution_count": 3,
   "id": "569c6909-e7ad-4429-b70a-49f393eeffb0",
   "metadata": {},
   "outputs": [
    {
     "name": "stdout",
     "output_type": "stream",
     "text": [
      "content of lst= [10, 20, 30, 123, 45, 67, 88, 99, 34, 123, 56, 78]\n",
      "Memory space of lst= 152\n"
     ]
    }
   ],
   "source": [
    "lst=[10,20,30,123,45,67,88,99,34,123,56,78]\n",
    "print(\"content of lst=\",lst)\n",
    "print(\"Memory space of lst=\",sys.getsizeof(lst))"
   ]
  },
  {
   "cell_type": "code",
   "execution_count": 4,
   "id": "e7560ae3-b672-44e3-99bc-3e92b0277724",
   "metadata": {},
   "outputs": [
    {
     "name": "stdout",
     "output_type": "stream",
     "text": [
      "Content of ndarray= [ 10  20  30 123  45  67  88  99  34 123  56  78]\n",
      "type of a= <class 'numpy.ndarray'>\n",
      "Memory Space of ndarray= 160\n"
     ]
    }
   ],
   "source": [
    "a=np.array(lst)\n",
    "print(\"Content of ndarray=\",a)\n",
    "print(\"type of a=\",type(a))\n",
    "print(\"Memory Space of ndarray=\",sys.getsizeof(a))"
   ]
  },
  {
   "cell_type": "code",
   "execution_count": 5,
   "id": "a4cc78ab-fc80-479c-9535-d9153113c55b",
   "metadata": {},
   "outputs": [
    {
     "name": "stdout",
     "output_type": "stream",
     "text": [
      "content of lst= [10, 20, 30, 123, 45, 67, 88, 99, 34, 123, 56, 78, 123, 45, 67, 88, 99, 34, 123, 56, 78, 99, 34, 123, 56, 78, 123, 45]\n",
      "Memory space of lst= 280\n"
     ]
    }
   ],
   "source": [
    "lst=[10,20,30,123,45,67,88,99,34,123,56,78,123,45,67,88,99,34,123,56,78,99,34,123,56,78,123,45]\n",
    "print(\"content of lst=\",lst)\n",
    "print(\"Memory space of lst=\",sys.getsizeof(lst))"
   ]
  },
  {
   "cell_type": "code",
   "execution_count": 6,
   "id": "258723c9-72e6-4ab9-aea0-ca7f5325dac6",
   "metadata": {},
   "outputs": [
    {
     "name": "stdout",
     "output_type": "stream",
     "text": [
      "Content of ndarray= [ 10  20  30 123  45  67  88  99  34 123  56  78 123  45  67  88  99  34\n",
      " 123  56  78  99  34 123  56  78 123  45]\n",
      "type of a= <class 'numpy.ndarray'>\n",
      "Memory Space of ndarray= 224\n"
     ]
    }
   ],
   "source": [
    "a=np.array(lst)\n",
    "print(\"Content of ndarray=\",a)\n",
    "print(\"type of a=\",type(a))\n",
    "print(\"Memory Space of ndarray=\",sys.getsizeof(a))"
   ]
  },
  {
   "cell_type": "code",
   "execution_count": 7,
   "id": "2ddf3e00-fafa-4be5-848d-fdce585dd62c",
   "metadata": {},
   "outputs": [
    {
     "name": "stdout",
     "output_type": "stream",
     "text": [
      "content of List= [10, 20, 30, 40, 50, 60, 70, 80]\n",
      "Memory Address= 2892125280832\n"
     ]
    }
   ],
   "source": [
    "#2 Difference\n",
    "lst=[10,20,30,40,50,60,70,80]\n",
    "print(\"content of List=\",lst)\n",
    "print(\"Memory Address=\",id(lst))"
   ]
  },
  {
   "cell_type": "code",
   "execution_count": 10,
   "id": "2d4f7eee-3daf-4265-a114-20b7015aa972",
   "metadata": {},
   "outputs": [
    {
     "name": "stdout",
     "output_type": "stream",
     "text": [
      "10---->140726482289736--->2892125280832\n",
      "20---->140726482290056--->2892125280832\n",
      "30---->140726482290376--->2892125280832\n",
      "40---->140726482290696--->2892125280832\n",
      "50---->140726482291016--->2892125280832\n",
      "60---->140726482291336--->2892125280832\n",
      "70---->140726482291656--->2892125280832\n",
      "80---->140726482291976--->2892125280832\n"
     ]
    }
   ],
   "source": [
    "for val in lst:\n",
    "    print(\"{}---->{}--->{}\".format(val,id(val),id(lst)))"
   ]
  },
  {
   "cell_type": "code",
   "execution_count": 13,
   "id": "92782a1b-e4cd-4fb0-b4fb-993607297b65",
   "metadata": {},
   "outputs": [
    {
     "name": "stdout",
     "output_type": "stream",
     "text": [
      "content of ndarray= [10 20 30 40 50 60 70 80]\n",
      "Memory Address= 2892123579824\n"
     ]
    }
   ],
   "source": [
    "a=np.array(lst)\n",
    "print(\"content of ndarray=\",a)\n",
    "print(\"Memory Address=\",id(a))"
   ]
  },
  {
   "cell_type": "code",
   "execution_count": 15,
   "id": "39700ad0-8cab-4e22-89b7-1a0c23b65bef",
   "metadata": {},
   "outputs": [
    {
     "name": "stdout",
     "output_type": "stream",
     "text": [
      "10--->2892127300080--->2892123579824\n",
      "20--->2892127300336--->2892123579824\n",
      "30--->2892127294096--->2892123579824\n",
      "40--->2892127299728--->2892123579824\n",
      "50--->2892127300080--->2892123579824\n",
      "60--->2892127294096--->2892123579824\n",
      "70--->2892127299728--->2892123579824\n",
      "80--->2892127300080--->2892123579824\n"
     ]
    }
   ],
   "source": [
    "for val in a:\n",
    "    print(\"{}--->{}--->{}\".format(val,id(val),id(a)))\n",
    "    \n",
    "    "
   ]
  },
  {
   "cell_type": "code",
   "execution_count": 16,
   "id": "abe8d44b-81ae-4d1b-84c5-0d4efcfac8e4",
   "metadata": {},
   "outputs": [
    {
     "name": "stdout",
     "output_type": "stream",
     "text": [
      "Content of lst= [10, 20, 30]\n",
      "Content of lst1= [11, 21, 31]\n"
     ]
    }
   ],
   "source": [
    "#3rd Difference--Vector Based Operation\n",
    "lst=[10,20,30]\n",
    "lst1=[]\n",
    "for val in lst:\n",
    "    lst1.append(val+1)\n",
    "print(\"Content of lst=\",lst)\n",
    "print(\"Content of lst1=\",lst1)\n",
    "    \n"
   ]
  },
  {
   "cell_type": "code",
   "execution_count": 17,
   "id": "334045e2-4e2f-4b69-b03a-f76f74a21807",
   "metadata": {},
   "outputs": [
    {
     "ename": "TypeError",
     "evalue": "can only concatenate list (not \"int\") to list",
     "output_type": "error",
     "traceback": [
      "\u001b[1;31m---------------------------------------------------------------------------\u001b[0m",
      "\u001b[1;31mTypeError\u001b[0m                                 Traceback (most recent call last)",
      "Cell \u001b[1;32mIn[17], line 2\u001b[0m\n\u001b[0;32m      1\u001b[0m lst\u001b[38;5;241m=\u001b[39m[\u001b[38;5;241m10\u001b[39m,\u001b[38;5;241m20\u001b[39m,\u001b[38;5;241m30\u001b[39m]\n\u001b[1;32m----> 2\u001b[0m lst\u001b[38;5;241m=\u001b[39mlst\u001b[38;5;241m+\u001b[39m\u001b[38;5;241m1\u001b[39m\n",
      "\u001b[1;31mTypeError\u001b[0m: can only concatenate list (not \"int\") to list"
     ]
    }
   ],
   "source": [
    "lst=[10,20,30]\n",
    "lst=lst+1  # TypeError: can only concatenate list (not \"int\") to list\n",
    "#here Vector Based Operation is not Possible to perform on List object"
   ]
  },
  {
   "cell_type": "code",
   "execution_count": 20,
   "id": "5c86f6df-2485-4047-9d31-3401014ea169",
   "metadata": {},
   "outputs": [
    {
     "name": "stdout",
     "output_type": "stream",
     "text": [
      "original content of a = [10 20 30]\n",
      "Updated Content of a= [11 21 31]\n"
     ]
    }
   ],
   "source": [
    "lst=[10,20,30]\n",
    "a=np.array(lst)\n",
    "print(\"original content of a =\",a)\n",
    "a=a+1 # Vector Based Operation\n",
    "print(\"Updated Content of a=\",a)"
   ]
  },
  {
   "cell_type": "code",
   "execution_count": 21,
   "id": "b9c80aee-d79e-401b-9743-7aca2afab10c",
   "metadata": {},
   "outputs": [
    {
     "ename": "TypeError",
     "evalue": "'>' not supported between instances of 'list' and 'int'",
     "output_type": "error",
     "traceback": [
      "\u001b[1;31m---------------------------------------------------------------------------\u001b[0m",
      "\u001b[1;31mTypeError\u001b[0m                                 Traceback (most recent call last)",
      "Cell \u001b[1;32mIn[21], line 2\u001b[0m\n\u001b[0;32m      1\u001b[0m lst\u001b[38;5;241m=\u001b[39m[\u001b[38;5;241m10\u001b[39m,\u001b[38;5;241m-\u001b[39m\u001b[38;5;241m20\u001b[39m,\u001b[38;5;241m30\u001b[39m,\u001b[38;5;241m-\u001b[39m\u001b[38;5;241m45\u001b[39m,\u001b[38;5;241m67\u001b[39m,\u001b[38;5;241m-\u001b[39m\u001b[38;5;241m34\u001b[39m]\n\u001b[1;32m----> 2\u001b[0m lst\u001b[38;5;241m>\u001b[39m\u001b[38;5;241m0\u001b[39m\n",
      "\u001b[1;31mTypeError\u001b[0m: '>' not supported between instances of 'list' and 'int'"
     ]
    }
   ],
   "source": [
    "lst=[10,-20,30,-45,67,-34]\n",
    "#lst>0--Vector Based Operation Not Possible"
   ]
  },
  {
   "cell_type": "code",
   "execution_count": 22,
   "id": "77f6ab3e-9253-4396-b271-aec5239f06b6",
   "metadata": {},
   "outputs": [
    {
     "name": "stdout",
     "output_type": "stream",
     "text": [
      "[ 10 -20  30 -45  67 -34] <class 'numpy.ndarray'>\n"
     ]
    }
   ],
   "source": [
    "lst=[10,-20,30,-45,67,-34]\n",
    "a=np.array(lst)\n",
    "print(a,type(a))\n"
   ]
  },
  {
   "cell_type": "code",
   "execution_count": 24,
   "id": "09223ef0-a7a7-4ebb-b3fe-3dc546e8b80d",
   "metadata": {},
   "outputs": [
    {
     "data": {
      "text/plain": [
       "array([10, 30, 67])"
      ]
     },
     "execution_count": 24,
     "metadata": {},
     "output_type": "execute_result"
    }
   ],
   "source": [
    "a[a>0]"
   ]
  },
  {
   "cell_type": "code",
   "execution_count": 25,
   "id": "5f97fde9-b402-4762-8b8b-c2ba9377b482",
   "metadata": {},
   "outputs": [
    {
     "data": {
      "text/plain": [
       "array([-20, -45, -34])"
      ]
     },
     "execution_count": 25,
     "metadata": {},
     "output_type": "execute_result"
    }
   ],
   "source": [
    "a[a<0]"
   ]
  },
  {
   "cell_type": "code",
   "execution_count": 26,
   "id": "02af3219-476d-49b7-93e1-cb1d54ab88f1",
   "metadata": {},
   "outputs": [
    {
     "name": "stdout",
     "output_type": "stream",
     "text": [
      "content of lst= [10, 20, 30, 123, 45, 67, 88, 99, 34, 123, 56, 78, 123, 45, 67, 88, 99, 34, 123, 56, 78, 99, 34, 123, 56, 78, 123, 45]\n",
      "Memory space of lst= 280\n"
     ]
    }
   ],
   "source": [
    "lst=[10,20,30,123,45,67,88,99,34,123,56,78,123,45,67,88,99,34,123,56,78,99,34,123,56,78,123,45]\n",
    "print(\"content of lst=\",lst)\n",
    "print(\"Memory space of lst=\",sys.getsizeof(lst))"
   ]
  },
  {
   "cell_type": "code",
   "execution_count": 27,
   "id": "31d149ac-f6cb-499e-b716-920ebbf2daef",
   "metadata": {},
   "outputs": [
    {
     "data": {
      "text/plain": [
       "array([ 10,  20,  30, 123,  45,  67,  88,  99,  34, 123,  56,  78, 123,\n",
       "        45,  67,  88,  99,  34, 123,  56,  78,  99,  34, 123,  56,  78,\n",
       "       123,  45])"
      ]
     },
     "execution_count": 27,
     "metadata": {},
     "output_type": "execute_result"
    }
   ],
   "source": [
    "a=np.array(lst)\n",
    "a"
   ]
  },
  {
   "cell_type": "code",
   "execution_count": 28,
   "id": "30164d1f-e4aa-4e1b-9ab8-fab5cbdcea12",
   "metadata": {},
   "outputs": [
    {
     "name": "stdout",
     "output_type": "stream",
     "text": [
      "[10, 'Rossum', 34.56, True, (2+3j)] <class 'list'>\n"
     ]
    }
   ],
   "source": [
    "lst=[10,\"Rossum\",34.56,True,2+3j]\n",
    "print(lst,type(lst))"
   ]
  },
  {
   "cell_type": "code",
   "execution_count": 29,
   "id": "1620dee1-e37d-490b-94de-26a7f9af0cf3",
   "metadata": {},
   "outputs": [
    {
     "name": "stdout",
     "output_type": "stream",
     "text": [
      "10 ---> <class 'int'>\n",
      "Rossum ---> <class 'str'>\n",
      "34.56 ---> <class 'float'>\n",
      "True ---> <class 'bool'>\n",
      "(2+3j) ---> <class 'complex'>\n"
     ]
    }
   ],
   "source": [
    "for val in lst:\n",
    "    print(val,\"--->\",type(val))"
   ]
  },
  {
   "cell_type": "code",
   "execution_count": 30,
   "id": "65f5544d-bc9a-4f32-951a-845a93e8936f",
   "metadata": {},
   "outputs": [
    {
     "name": "stdout",
     "output_type": "stream",
     "text": [
      "[10, 'Rossum', 34.56, True, (2+3j)] <class 'list'>\n"
     ]
    }
   ],
   "source": [
    "lst=[10,\"Rossum\",34.56,True,2+3j]\n",
    "print(lst,type(lst))"
   ]
  },
  {
   "cell_type": "code",
   "execution_count": 31,
   "id": "bc00d82f-bd83-49b0-bc9d-221a1aa248a5",
   "metadata": {},
   "outputs": [
    {
     "name": "stdout",
     "output_type": "stream",
     "text": [
      "['10' 'Rossum' '34.56' 'True' '(2+3j)'] <class 'numpy.ndarray'>\n"
     ]
    }
   ],
   "source": [
    "a=np.array(lst)\n",
    "print(a,type(a))"
   ]
  },
  {
   "cell_type": "code",
   "execution_count": 33,
   "id": "98ddfa49-a209-4ff3-8b11-939a565740d8",
   "metadata": {},
   "outputs": [
    {
     "name": "stdout",
     "output_type": "stream",
     "text": [
      "[10, 20, 30, True, 12.34] <class 'list'>\n"
     ]
    }
   ],
   "source": [
    "lst=[10,20,30,True,12.34]\n",
    "print(lst,type(lst))"
   ]
  },
  {
   "cell_type": "code",
   "execution_count": 34,
   "id": "b4a1816f-4011-448b-abec-0d27ea1218d4",
   "metadata": {},
   "outputs": [
    {
     "name": "stdout",
     "output_type": "stream",
     "text": [
      "[10.   20.   30.    1.   12.34] <class 'numpy.ndarray'>\n"
     ]
    }
   ],
   "source": [
    "a=np.array(lst)\n",
    "print(a,type(a))"
   ]
  },
  {
   "cell_type": "code",
   "execution_count": 35,
   "id": "acbb4f1a-77f6-44e8-bfd0-6371e2917bcb",
   "metadata": {},
   "outputs": [
    {
     "name": "stdout",
     "output_type": "stream",
     "text": [
      "[10, 'Rossum', 34.56, True, (2+3j)] <class 'list'>\n",
      "[10 'Rossum' 34.56 True (2+3j)] <class 'numpy.ndarray'>\n"
     ]
    }
   ],
   "source": [
    "lst=[10,\"Rossum\",34.56,True,2+3j]\n",
    "print(lst,type(lst))\n",
    "a=np.array(lst,dtype=object)\n",
    "print(a,type(a))"
   ]
  },
  {
   "cell_type": "code",
   "execution_count": 36,
   "id": "46cacf50-03cb-45f7-8c00-5ba244bf1b98",
   "metadata": {},
   "outputs": [
    {
     "name": "stdout",
     "output_type": "stream",
     "text": [
      "10 <class 'int'>\n",
      "Rossum <class 'str'>\n",
      "34.56 <class 'float'>\n",
      "True <class 'bool'>\n",
      "(2+3j) <class 'complex'>\n"
     ]
    }
   ],
   "source": [
    "for val in a:\n",
    "    print(val,type(val))"
   ]
  },
  {
   "cell_type": "code",
   "execution_count": null,
   "id": "fbb1d59d-4fae-4189-936f-96dda6dc063b",
   "metadata": {},
   "outputs": [],
   "source": []
  }
 ],
 "metadata": {
  "kernelspec": {
   "display_name": "Python 3 (ipykernel)",
   "language": "python",
   "name": "python3"
  },
  "language_info": {
   "codemirror_mode": {
    "name": "ipython",
    "version": 3
   },
   "file_extension": ".py",
   "mimetype": "text/x-python",
   "name": "python",
   "nbconvert_exporter": "python",
   "pygments_lexer": "ipython3",
   "version": "3.11.7"
  }
 },
 "nbformat": 4,
 "nbformat_minor": 5
}
