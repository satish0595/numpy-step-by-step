{
 "cells": [
  {
   "cell_type": "code",
   "execution_count": 1,
   "id": "d57a9721-d728-4576-adde-effc4eeec36c",
   "metadata": {},
   "outputs": [],
   "source": [
    "import numpy as np\n"
   ]
  },
  {
   "cell_type": "code",
   "execution_count": 2,
   "id": "a3bcfa55-ce58-4d70-8dd3-1f65c70222a5",
   "metadata": {},
   "outputs": [
    {
     "name": "stdout",
     "output_type": "stream",
     "text": [
      "[10, 20, 30, 40, 50, 60, 70, 80, 90] <class 'list'>\n"
     ]
    }
   ],
   "source": [
    "lst=[10,20,30,40,50,60,70,80,90]\n",
    "print(lst,type(lst))"
   ]
  },
  {
   "cell_type": "code",
   "execution_count": 3,
   "id": "1cce11f2-0544-4209-b506-38556f3c19d2",
   "metadata": {},
   "outputs": [
    {
     "name": "stdout",
     "output_type": "stream",
     "text": [
      "[10 20 30 40 50 60 70 80 90] <class 'numpy.ndarray'>\n"
     ]
    }
   ],
   "source": [
    "#Convert list object into ndarray object.\n",
    "a=np.array(lst)\n",
    "print(a,type(a))"
   ]
  },
  {
   "cell_type": "code",
   "execution_count": 4,
   "id": "a88f3df6-2d03-409b-ad4c-a866aebf18e6",
   "metadata": {},
   "outputs": [
    {
     "data": {
      "text/plain": [
       "array([10, 20, 30, 40, 50, 60, 70, 80, 90])"
      ]
     },
     "execution_count": 4,
     "metadata": {},
     "output_type": "execute_result"
    }
   ],
   "source": [
    "a"
   ]
  },
  {
   "cell_type": "code",
   "execution_count": 5,
   "id": "93790663-bd54-4f88-8d44-1d95ef4fe205",
   "metadata": {},
   "outputs": [
    {
     "name": "stdout",
     "output_type": "stream",
     "text": [
      "Dimension of a= 1\n"
     ]
    }
   ],
   "source": [
    "#Find the dimension of an array--we use 'ndim' attribute of ndarray object\n",
    "print(\"Dimension of a=\",a.ndim)\n"
   ]
  },
  {
   "cell_type": "code",
   "execution_count": 6,
   "id": "7dcf169c-0bd4-44f6-8fb0-1a8b9e36d4af",
   "metadata": {},
   "outputs": [
    {
     "name": "stdout",
     "output_type": "stream",
     "text": [
      "Shape of ndarray= (9,)\n"
     ]
    }
   ],
   "source": [
    "#Find the Shape of ndarray by using shape attribute\n",
    "print(\"Shape of ndarray=\",a.shape)"
   ]
  },
  {
   "cell_type": "code",
   "execution_count": 7,
   "id": "7e9cfb98-0826-46b0-8d9a-dcb7fd0bc70b",
   "metadata": {},
   "outputs": [
    {
     "name": "stdout",
     "output_type": "stream",
     "text": [
      "Number of Elements in ndarray= 9\n"
     ]
    }
   ],
   "source": [
    "#Find Size of ndarray  by using size attribute\n",
    "print(\"Number of Elements in ndarray=\",a.size)"
   ]
  },
  {
   "cell_type": "code",
   "execution_count": 8,
   "id": "81bf2287-a5a4-4021-be3f-3366bcd344dd",
   "metadata": {},
   "outputs": [
    {
     "name": "stdout",
     "output_type": "stream",
     "text": [
      "Number of Elements in ndarray= 9\n"
     ]
    }
   ],
   "source": [
    "#Find Size of ndarray  by using len()\n",
    "print(\"Number of Elements in ndarray=\",len(a))"
   ]
  },
  {
   "cell_type": "code",
   "execution_count": 9,
   "id": "a323ba15-a0bb-4587-a45f-af85d3e7822d",
   "metadata": {},
   "outputs": [
    {
     "name": "stdout",
     "output_type": "stream",
     "text": [
      "Data type of ndarray internally= int32\n"
     ]
    }
   ],
   "source": [
    "#Find data type of ndarray (Type of Data) obtained by using dtype attribute\n",
    "print(\"Data type of ndarray internally=\",a.dtype)"
   ]
  },
  {
   "cell_type": "code",
   "execution_count": 10,
   "id": "3eae850c-7778-4f98-8566-5e5e8649f8ae",
   "metadata": {},
   "outputs": [],
   "source": [
    "#Here attrubutes of ndarray are ndim,shape,size,dtype"
   ]
  },
  {
   "cell_type": "code",
   "execution_count": 11,
   "id": "0468b2f3-2b89-4c84-87e4-ca2a217dd33d",
   "metadata": {},
   "outputs": [
    {
     "name": "stdout",
     "output_type": "stream",
     "text": [
      "[10, 20, 30, 40, 50, 60, 70, 80, 90] <class 'list'>\n"
     ]
    }
   ],
   "source": [
    "lst=[10,20,30,40,50,60,70,80,90]\n",
    "print(lst,type(lst))"
   ]
  },
  {
   "cell_type": "code",
   "execution_count": 12,
   "id": "aa5f8503-e29b-40cc-909a-32459b5556b7",
   "metadata": {},
   "outputs": [
    {
     "name": "stdout",
     "output_type": "stream",
     "text": [
      "[10 20 30 40 50 60 70 80 90] <class 'numpy.ndarray'>\n"
     ]
    }
   ],
   "source": [
    "#Here we are reshaping the ndarray object\n",
    "a=np.array(lst)\n",
    "print(a,type(a))"
   ]
  },
  {
   "cell_type": "code",
   "execution_count": 13,
   "id": "709f57f5-bd56-4d99-979f-2faaec5a952f",
   "metadata": {},
   "outputs": [],
   "source": [
    "#To reshape the ndarray object as matrix, we have Two Approaches\n",
    "# 1. By using  shape Attribute\n",
    "# 2. By using reshape() Function"
   ]
  },
  {
   "cell_type": "code",
   "execution_count": 14,
   "id": "97597aeb-cf03-4c6d-8481-87030d687fed",
   "metadata": {},
   "outputs": [],
   "source": [
    "# 1. By using  shape Attribute\n",
    "# Syntax:  ndarrayobject.shape=(Rows,Cols)"
   ]
  },
  {
   "cell_type": "code",
   "execution_count": 15,
   "id": "5af6580a-d631-4c42-98e9-b48a9e2015bc",
   "metadata": {},
   "outputs": [
    {
     "name": "stdout",
     "output_type": "stream",
     "text": [
      "[10 20 30 40 50 60 70 80 90] <class 'numpy.ndarray'>\n"
     ]
    }
   ],
   "source": [
    "lst=[10,20,30,40,50,60,70,80,90]\n",
    "a=np.array(lst)\n",
    "print(a,type(a))"
   ]
  },
  {
   "cell_type": "code",
   "execution_count": 16,
   "id": "96af924c-8eeb-497d-8d10-55b783912b82",
   "metadata": {},
   "outputs": [
    {
     "name": "stdout",
     "output_type": "stream",
     "text": [
      "[[10 20 30]\n",
      " [40 50 60]\n",
      " [70 80 90]] <class 'numpy.ndarray'>\n"
     ]
    }
   ],
   "source": [
    "a.shape=(3,3)\n",
    "print(a,type(a))"
   ]
  },
  {
   "cell_type": "code",
   "execution_count": 17,
   "id": "00093ec3-938b-4814-8076-b1981a99b7fc",
   "metadata": {},
   "outputs": [
    {
     "name": "stdout",
     "output_type": "stream",
     "text": [
      "Dimension of ndarray a= 2\n",
      "Shape of ndarray a= (3, 3)\n",
      "Size of ndarray a= 9\n",
      "Data Type of ndarray= int32\n"
     ]
    }
   ],
   "source": [
    "print(\"Dimension of ndarray a=\",a.ndim)\n",
    "print(\"Shape of ndarray a=\",a.shape)\n",
    "print(\"Size of ndarray a=\",a.size)\n",
    "print(\"Data Type of ndarray=\",a.dtype)"
   ]
  },
  {
   "cell_type": "code",
   "execution_count": 18,
   "id": "e2c0f1da-6e24-4da8-a6c1-9e21de34a636",
   "metadata": {},
   "outputs": [
    {
     "name": "stdout",
     "output_type": "stream",
     "text": [
      "[10, 20, 30, 40, 50, 60, 70, 80, 90, 25, 35, 15] <class 'list'>\n"
     ]
    }
   ],
   "source": [
    "lst=[10,20,30,40,50,60,70,80,90,25,35,15]\n",
    "print(lst,type(lst))"
   ]
  },
  {
   "cell_type": "code",
   "execution_count": 19,
   "id": "580ec690-6274-47cb-a01e-343061a3a329",
   "metadata": {},
   "outputs": [
    {
     "name": "stdout",
     "output_type": "stream",
     "text": [
      "[10 20 30 40 50 60 70 80 90 25 35 15] <class 'numpy.ndarray'>\n"
     ]
    }
   ],
   "source": [
    "a=np.array(lst)\n",
    "print(a,type(a))"
   ]
  },
  {
   "cell_type": "code",
   "execution_count": 21,
   "id": "01f11717-2ed9-4589-838a-dac524788336",
   "metadata": {},
   "outputs": [],
   "source": [
    "#a.shape=(4,5)----ValueError: cannot reshape array of size 12 into shape (4,5)"
   ]
  },
  {
   "cell_type": "code",
   "execution_count": 23,
   "id": "4dee49a2-8840-4065-815f-1d44db501001",
   "metadata": {},
   "outputs": [
    {
     "name": "stdout",
     "output_type": "stream",
     "text": [
      "Content of ndarray a=\n",
      "[[10 20 30 40]\n",
      " [50 60 70 80]\n",
      " [90 25 35 15]]\n",
      "Dimension of ndarray a= 2\n",
      "Shape of ndarray a= (3, 4)\n",
      "Size of ndarray a= 12\n",
      "Data Type of ndarray= int32\n"
     ]
    }
   ],
   "source": [
    "a.shape=(3,4)\n",
    "print(\"Content of ndarray a=\")\n",
    "print(a)\n",
    "print(\"Dimension of ndarray a=\",a.ndim)\n",
    "print(\"Shape of ndarray a=\",a.shape)\n",
    "print(\"Size of ndarray a=\",a.size)\n",
    "print(\"Data Type of ndarray=\",a.dtype)"
   ]
  },
  {
   "cell_type": "code",
   "execution_count": 24,
   "id": "72e69c6d-2f24-4bab-a9d1-dc56c9bc2837",
   "metadata": {},
   "outputs": [
    {
     "name": "stdout",
     "output_type": "stream",
     "text": [
      "Content of ndarray a=\n",
      "[[10 20 30]\n",
      " [40 50 60]\n",
      " [70 80 90]\n",
      " [25 35 15]]\n",
      "Dimension of ndarray a= 2\n",
      "Shape of ndarray a= (4, 3)\n",
      "Size of ndarray a= 12\n",
      "Data Type of ndarray= int32\n"
     ]
    }
   ],
   "source": [
    "a.shape=(4,3)\n",
    "print(\"Content of ndarray a=\")\n",
    "print(a)\n",
    "print(\"Dimension of ndarray a=\",a.ndim)\n",
    "print(\"Shape of ndarray a=\",a.shape)\n",
    "print(\"Size of ndarray a=\",a.size)\n",
    "print(\"Data Type of ndarray=\",a.dtype)"
   ]
  },
  {
   "cell_type": "code",
   "execution_count": 25,
   "id": "f1ee7696-56cb-454f-8b89-c7ef4d35176d",
   "metadata": {},
   "outputs": [
    {
     "name": "stdout",
     "output_type": "stream",
     "text": [
      "Content of ndarray a=\n",
      "[[10 20]\n",
      " [30 40]\n",
      " [50 60]\n",
      " [70 80]\n",
      " [90 25]\n",
      " [35 15]]\n",
      "Dimension of ndarray a= 2\n",
      "Shape of ndarray a= (6, 2)\n",
      "Size of ndarray a= 12\n",
      "Data Type of ndarray= int32\n"
     ]
    }
   ],
   "source": [
    "a.shape=(6,2)\n",
    "print(\"Content of ndarray a=\")\n",
    "print(a)\n",
    "print(\"Dimension of ndarray a=\",a.ndim)\n",
    "print(\"Shape of ndarray a=\",a.shape)\n",
    "print(\"Size of ndarray a=\",a.size)\n",
    "print(\"Data Type of ndarray=\",a.dtype)"
   ]
  },
  {
   "cell_type": "code",
   "execution_count": 26,
   "id": "04a826d2-23b1-4a39-b241-64ef050a830a",
   "metadata": {},
   "outputs": [
    {
     "name": "stdout",
     "output_type": "stream",
     "text": [
      "Content of ndarray a=\n",
      "[[10 20 30 40 50 60]\n",
      " [70 80 90 25 35 15]]\n",
      "Dimension of ndarray a= 2\n",
      "Shape of ndarray a= (2, 6)\n",
      "Size of ndarray a= 12\n",
      "Data Type of ndarray= int32\n"
     ]
    }
   ],
   "source": [
    "a.shape=(2,6)\n",
    "print(\"Content of ndarray a=\")\n",
    "print(a)\n",
    "print(\"Dimension of ndarray a=\",a.ndim)\n",
    "print(\"Shape of ndarray a=\",a.shape)\n",
    "print(\"Size of ndarray a=\",a.size)\n",
    "print(\"Data Type of ndarray=\",a.dtype)"
   ]
  },
  {
   "cell_type": "code",
   "execution_count": 27,
   "id": "15aaed5a-377c-4504-9ee8-7eb389a25332",
   "metadata": {},
   "outputs": [
    {
     "name": "stdout",
     "output_type": "stream",
     "text": [
      "Content of ndarray a=\n",
      "[[10]\n",
      " [20]\n",
      " [30]\n",
      " [40]\n",
      " [50]\n",
      " [60]\n",
      " [70]\n",
      " [80]\n",
      " [90]\n",
      " [25]\n",
      " [35]\n",
      " [15]]\n",
      "Dimension of ndarray a= 2\n",
      "Shape of ndarray a= (12, 1)\n",
      "Size of ndarray a= 12\n",
      "Data Type of ndarray= int32\n"
     ]
    }
   ],
   "source": [
    "a.shape=(12,1)\n",
    "print(\"Content of ndarray a=\")\n",
    "print(a)\n",
    "print(\"Dimension of ndarray a=\",a.ndim)\n",
    "print(\"Shape of ndarray a=\",a.shape)\n",
    "print(\"Size of ndarray a=\",a.size)\n",
    "print(\"Data Type of ndarray=\",a.dtype)"
   ]
  },
  {
   "cell_type": "code",
   "execution_count": 28,
   "id": "5d9bcfc6-1b15-40c3-85ac-eebb43c10601",
   "metadata": {},
   "outputs": [
    {
     "name": "stdout",
     "output_type": "stream",
     "text": [
      "Content of ndarray a=\n",
      "[[10 20 30 40 50 60 70 80 90 25 35 15]]\n",
      "Dimension of ndarray a= 2\n",
      "Shape of ndarray a= (1, 12)\n",
      "Size of ndarray a= 12\n",
      "Data Type of ndarray= int32\n"
     ]
    }
   ],
   "source": [
    "a.shape=(1,12)\n",
    "print(\"Content of ndarray a=\")\n",
    "print(a)\n",
    "print(\"Dimension of ndarray a=\",a.ndim)\n",
    "print(\"Shape of ndarray a=\",a.shape)\n",
    "print(\"Size of ndarray a=\",a.size)\n",
    "print(\"Data Type of ndarray=\",a.dtype)"
   ]
  },
  {
   "cell_type": "code",
   "execution_count": 29,
   "id": "bb9ec5c4-c0a5-4d46-ab42-9c74150d9226",
   "metadata": {},
   "outputs": [
    {
     "name": "stdout",
     "output_type": "stream",
     "text": [
      "Content of ndarray a=\n",
      "[10 20 30 40 50 60 70 80 90 25 35 15]\n",
      "Dimension of ndarray a= 1\n",
      "Shape of ndarray a= (12,)\n",
      "Size of ndarray a= 12\n",
      "Data Type of ndarray= int32\n"
     ]
    }
   ],
   "source": [
    "a.shape=(12,) # Making 2d array as 1d array\n",
    "print(\"Content of ndarray a=\")\n",
    "print(a)\n",
    "print(\"Dimension of ndarray a=\",a.ndim)\n",
    "print(\"Shape of ndarray a=\",a.shape)\n",
    "print(\"Size of ndarray a=\",a.size)\n",
    "print(\"Data Type of ndarray=\",a.dtype)"
   ]
  },
  {
   "cell_type": "code",
   "execution_count": 30,
   "id": "09e9f923-66e6-41d2-a3bb-e483be1766c9",
   "metadata": {},
   "outputs": [
    {
     "name": "stdout",
     "output_type": "stream",
     "text": [
      "Content of ndarray a=\n",
      "[[[10 20]\n",
      "  [30 40]\n",
      "  [50 60]]\n",
      "\n",
      " [[70 80]\n",
      "  [90 25]\n",
      "  [35 15]]]\n",
      "Dimension of ndarray a= 3\n",
      "Shape of ndarray a= (2, 3, 2)\n",
      "Size of ndarray a= 12\n",
      "Data Type of ndarray= int32\n"
     ]
    }
   ],
   "source": [
    "a.shape=(2,3,2) #Converting 1darray into 3darray\n",
    "print(\"Content of ndarray a=\")\n",
    "print(a)\n",
    "print(\"Dimension of ndarray a=\",a.ndim)\n",
    "print(\"Shape of ndarray a=\",a.shape)\n",
    "print(\"Size of ndarray a=\",a.size)\n",
    "print(\"Data Type of ndarray=\",a.dtype)"
   ]
  },
  {
   "cell_type": "code",
   "execution_count": 32,
   "id": "15cf9a55-fc0b-4f66-8381-4634ac2c2f12",
   "metadata": {},
   "outputs": [],
   "source": [
    "## 2. By using reshape() Function\n",
    "#here reshape() present in ndarray object"
   ]
  },
  {
   "cell_type": "code",
   "execution_count": 34,
   "id": "4e837049-77b9-4497-8ef9-0764d935978e",
   "metadata": {},
   "outputs": [
    {
     "name": "stdout",
     "output_type": "stream",
     "text": [
      "[10, 20, 30, 40, 50, 60] <class 'list'>\n"
     ]
    }
   ],
   "source": [
    "lst=[10,20,30,40,50,60]\n",
    "print(lst,type(lst))"
   ]
  },
  {
   "cell_type": "code",
   "execution_count": 36,
   "id": "2f40c038-4cce-4e5f-aaac-36a21366f65b",
   "metadata": {},
   "outputs": [
    {
     "name": "stdout",
     "output_type": "stream",
     "text": [
      "[10 20 30 40 50 60] <class 'numpy.ndarray'>\n"
     ]
    }
   ],
   "source": [
    "a=np.array(lst)\n",
    "print(a,type(a))"
   ]
  },
  {
   "cell_type": "code",
   "execution_count": 37,
   "id": "e5ccae9d-a2f8-4173-bbb7-742c4841f2df",
   "metadata": {},
   "outputs": [
    {
     "data": {
      "text/plain": [
       "array([[10, 20, 30],\n",
       "       [40, 50, 60]])"
      ]
     },
     "execution_count": 37,
     "metadata": {},
     "output_type": "execute_result"
    }
   ],
   "source": [
    "a.reshape(2,3)"
   ]
  },
  {
   "cell_type": "code",
   "execution_count": 38,
   "id": "55d754f6-eb61-46cd-8617-44b66c432526",
   "metadata": {},
   "outputs": [
    {
     "name": "stdout",
     "output_type": "stream",
     "text": [
      "[10 20 30 40 50 60]\n"
     ]
    }
   ],
   "source": [
    "print(a)"
   ]
  },
  {
   "cell_type": "code",
   "execution_count": 39,
   "id": "dd1b8343-dc17-48e8-874d-be5d01ecb854",
   "metadata": {},
   "outputs": [
    {
     "name": "stdout",
     "output_type": "stream",
     "text": [
      "[[10 20 30]\n",
      " [40 50 60]]\n"
     ]
    }
   ],
   "source": [
    "a=a.reshape(2,3)\n",
    "print(a)"
   ]
  },
  {
   "cell_type": "code",
   "execution_count": 40,
   "id": "a191dbe1-1c59-4135-9d60-c3e738554030",
   "metadata": {},
   "outputs": [
    {
     "data": {
      "text/plain": [
       "array([[10, 20, 30],\n",
       "       [40, 50, 60]])"
      ]
     },
     "execution_count": 40,
     "metadata": {},
     "output_type": "execute_result"
    }
   ],
   "source": [
    "a"
   ]
  },
  {
   "cell_type": "code",
   "execution_count": 41,
   "id": "348305ca-eb58-47bd-be7b-a57cb5e50bb6",
   "metadata": {},
   "outputs": [
    {
     "name": "stdout",
     "output_type": "stream",
     "text": [
      "Content of ndarray a=\n",
      "[[10 20 30]\n",
      " [40 50 60]]\n",
      "Dimension of ndarray a= 2\n",
      "Shape of ndarray a= (2, 3)\n",
      "Size of ndarray a= 6\n",
      "Data Type of ndarray= int32\n"
     ]
    }
   ],
   "source": [
    "print(\"Content of ndarray a=\")\n",
    "print(a)\n",
    "print(\"Dimension of ndarray a=\",a.ndim)\n",
    "print(\"Shape of ndarray a=\",a.shape)\n",
    "print(\"Size of ndarray a=\",a.size)\n",
    "print(\"Data Type of ndarray=\",a.dtype)"
   ]
  },
  {
   "cell_type": "code",
   "execution_count": 42,
   "id": "5875bdb6-0454-45f1-9cb2-d7ef6f9fd8a7",
   "metadata": {},
   "outputs": [
    {
     "name": "stdout",
     "output_type": "stream",
     "text": [
      "Content of ndarray a=\n",
      "[[10 20]\n",
      " [30 40]\n",
      " [50 60]]\n",
      "Dimension of ndarray a= 2\n",
      "Shape of ndarray a= (3, 2)\n",
      "Size of ndarray a= 6\n",
      "Data Type of ndarray= int32\n"
     ]
    }
   ],
   "source": [
    "a=a.reshape(3,2)\n",
    "print(\"Content of ndarray a=\")\n",
    "print(a)\n",
    "print(\"Dimension of ndarray a=\",a.ndim)\n",
    "print(\"Shape of ndarray a=\",a.shape)\n",
    "print(\"Size of ndarray a=\",a.size)\n",
    "print(\"Data Type of ndarray=\",a.dtype)"
   ]
  },
  {
   "cell_type": "code",
   "execution_count": 43,
   "id": "6cf0dad3-6e8a-4fdc-9d48-8ca9b9adabc3",
   "metadata": {},
   "outputs": [
    {
     "name": "stdout",
     "output_type": "stream",
     "text": [
      "[10, 20, 30, 40, 50, 60, 70, 80, 90, 15, 25, 35, 55, 65, 75, 85] <class 'list'>\n"
     ]
    },
    {
     "data": {
      "text/plain": [
       "16"
      ]
     },
     "execution_count": 43,
     "metadata": {},
     "output_type": "execute_result"
    }
   ],
   "source": [
    "lst=[10,20,30,40,50,60,70,80,90,15,25,35,55,65,75,85]\n",
    "print(lst,type(lst))\n",
    "len(lst)"
   ]
  },
  {
   "cell_type": "code",
   "execution_count": 44,
   "id": "4d742ff9-3be5-495e-881f-31b425c2f849",
   "metadata": {},
   "outputs": [
    {
     "name": "stdout",
     "output_type": "stream",
     "text": [
      "Content of ndarray a=\n",
      "[10 20 30 40 50 60 70 80 90 15 25 35 55 65 75 85]\n",
      "Dimension of ndarray a= 1\n",
      "Shape of ndarray a= (16,)\n",
      "Size of ndarray a= 16\n",
      "Data Type of ndarray= int32\n"
     ]
    }
   ],
   "source": [
    "a=np.array(lst)\n",
    "print(\"Content of ndarray a=\")\n",
    "print(a)\n",
    "print(\"Dimension of ndarray a=\",a.ndim)\n",
    "print(\"Shape of ndarray a=\",a.shape)\n",
    "print(\"Size of ndarray a=\",a.size)\n",
    "print(\"Data Type of ndarray=\",a.dtype)"
   ]
  },
  {
   "cell_type": "code",
   "execution_count": 45,
   "id": "1f104ff7-65f8-46e2-8280-1e586e7bd756",
   "metadata": {},
   "outputs": [
    {
     "name": "stdout",
     "output_type": "stream",
     "text": [
      "Content of ndarray a=\n",
      "[[[10 20]\n",
      "  [30 40]\n",
      "  [50 60]\n",
      "  [70 80]]\n",
      "\n",
      " [[90 15]\n",
      "  [25 35]\n",
      "  [55 65]\n",
      "  [75 85]]]\n",
      "Dimension of ndarray a= 3\n",
      "Shape of ndarray a= (2, 4, 2)\n",
      "Size of ndarray a= 16\n",
      "Data Type of ndarray= int32\n"
     ]
    }
   ],
   "source": [
    "#Conver ndarray Dimension as 3d\n",
    "a.shape=(2,4,2)\n",
    "print(\"Content of ndarray a=\")\n",
    "print(a)\n",
    "print(\"Dimension of ndarray a=\",a.ndim)\n",
    "print(\"Shape of ndarray a=\",a.shape)\n",
    "print(\"Size of ndarray a=\",a.size)\n",
    "print(\"Data Type of ndarray=\",a.dtype)"
   ]
  },
  {
   "cell_type": "code",
   "execution_count": 46,
   "id": "82a165e3-6a29-4191-8cbf-30eddec696bc",
   "metadata": {},
   "outputs": [
    {
     "name": "stdout",
     "output_type": "stream",
     "text": [
      "Content of ndarray a=\n",
      "[[[[10 20]\n",
      "   [30 40]]\n",
      "\n",
      "  [[50 60]\n",
      "   [70 80]]]\n",
      "\n",
      "\n",
      " [[[90 15]\n",
      "   [25 35]]\n",
      "\n",
      "  [[55 65]\n",
      "   [75 85]]]]\n",
      "Dimension of ndarray a= 4\n",
      "Shape of ndarray a= (2, 2, 2, 2)\n",
      "Size of ndarray a= 16\n",
      "Data Type of ndarray= int32\n"
     ]
    }
   ],
   "source": [
    "#Conver ndarray Dimension as 4-D\n",
    "a.shape=(2,2,2,2)\n",
    "print(\"Content of ndarray a=\")\n",
    "print(a)\n",
    "print(\"Dimension of ndarray a=\",a.ndim)\n",
    "print(\"Shape of ndarray a=\",a.shape)\n",
    "print(\"Size of ndarray a=\",a.size)\n",
    "print(\"Data Type of ndarray=\",a.dtype)"
   ]
  },
  {
   "cell_type": "code",
   "execution_count": 47,
   "id": "d331a656-106b-4d51-83f1-4ceda699128f",
   "metadata": {},
   "outputs": [
    {
     "data": {
      "text/plain": [
       "0.8939966636005579"
      ]
     },
     "execution_count": 47,
     "metadata": {},
     "output_type": "execute_result"
    }
   ],
   "source": [
    "import math\n",
    "math.sin(90)"
   ]
  },
  {
   "cell_type": "code",
   "execution_count": 49,
   "id": "c43c6be9-1099-47a3-8413-a22ea69fcb74",
   "metadata": {},
   "outputs": [
    {
     "data": {
      "text/plain": [
       "1.0"
      ]
     },
     "execution_count": 49,
     "metadata": {},
     "output_type": "execute_result"
    }
   ],
   "source": [
    "math.cos(0)"
   ]
  },
  {
   "cell_type": "code",
   "execution_count": 50,
   "id": "e2e8d9c1-4429-4d27-969d-6ae62f3ac972",
   "metadata": {},
   "outputs": [
    {
     "data": {
      "text/plain": [
       "False"
      ]
     },
     "execution_count": 50,
     "metadata": {},
     "output_type": "execute_result"
    }
   ],
   "source": [
    "math.sin(90)==math.cos(0)"
   ]
  },
  {
   "cell_type": "code",
   "execution_count": null,
   "id": "e24f5558-af54-4272-8621-0ff6ba4292ee",
   "metadata": {},
   "outputs": [],
   "source": []
  }
 ],
 "metadata": {
  "kernelspec": {
   "display_name": "Python 3 (ipykernel)",
   "language": "python",
   "name": "python3"
  },
  "language_info": {
   "codemirror_mode": {
    "name": "ipython",
    "version": 3
   },
   "file_extension": ".py",
   "mimetype": "text/x-python",
   "name": "python",
   "nbconvert_exporter": "python",
   "pygments_lexer": "ipython3",
   "version": "3.11.7"
  }
 },
 "nbformat": 4,
 "nbformat_minor": 5
}
